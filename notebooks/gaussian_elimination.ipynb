{
 "cells": [
  {
   "cell_type": "markdown",
   "id": "f8b3cf85",
   "metadata": {},
   "source": [
    "Title & Introduction\n",
    "▶ Core of modern applied mathematics.\n",
    "▶ Basis for numerical analysis, data science, engineering, and\n",
    "more.\n",
    "▶ Chapter focus: Gaussian Elimination.\n",
    "▶ Applications: Solving linear systems with unique or multiple\n",
    "solutions."
   ]
  },
  {
   "attachments": {},
   "cell_type": "markdown",
   "id": "3d033eb9",
   "metadata": {},
   "source": []
  },
  {
   "cell_type": "code",
   "execution_count": 1,
   "id": "d0ef3cfb",
   "metadata": {},
   "outputs": [
    {
     "name": "stdout",
     "output_type": "stream",
     "text": [
      "Number of equations (n): 3\n",
      "Enter matrix A row by row (numbers separated by space):\n",
      "Row 1: 1 2 1\n",
      "Row 2: 2 6 1\n",
      "Row 3: 1 1 4\n",
      "Enter vector b (numbers separated by space):\n",
      "2 7 3\n",
      "Solution of the system:  [-3.  2.  1.]\n"
     ]
    }
   ],
   "source": [
    "import numpy as np\n",
    "def gaussian_elimination(A, b):\n",
    "    \"\"\"\n",
    "    Solves Ax = b using Gaussian elimination and back substitution.\n",
    "    A : coefficient matrix (n x n)\n",
    "    b : right-hand side vector (n)\n",
    "    \"\"\"\n",
    "    n = len(b)\n",
    "    # Augmented matrix [A|b]\n",
    "    Ab = np.hstack([A.astype(float), b.reshape(-1,1).astype(float)])\n",
    "\n",
    "    # Forward elimination (Gaussian elimination)\n",
    "    for i in range(n):\n",
    "        # Pivoting: make sure Ab[i,i] is not zero\n",
    "        if Ab[i, i] == 0:\n",
    "            for j in range(i+1, n):\n",
    "                if Ab[j, i] != 0:\n",
    "                    Ab[[i, j]] = Ab[[j, i]]  # swap rows\n",
    "                    break\n",
    "        \n",
    "        # Make leading coefficient = 1\n",
    "        Ab[i] = Ab[i] / Ab[i, i]\n",
    "        \n",
    "        # Eliminate below\n",
    "        for j in range(i+1, n):\n",
    "            Ab[j] = Ab[j] - Ab[j, i] * Ab[i]\n",
    "    \n",
    "    # Back substitution\n",
    "    x = np.zeros(n)\n",
    "    for i in range(n-1, -1, -1):\n",
    "        x[i] = Ab[i, -1] - np.dot(Ab[i, i+1:n], x[i+1:n])\n",
    "    \n",
    "    return x\n",
    "\n",
    "# Get input from user\n",
    "n = int(input(\"Number of equations (n): \"))\n",
    "\n",
    "print(\"Enter matrix A row by row (numbers separated by space):\")\n",
    "A = []\n",
    "for i in range(n):\n",
    "    row = list(map(float, input(f\"Row {i+1}: \").split()))\n",
    "    A.append(row)\n",
    "A = np.array(A)\n",
    "\n",
    "print(\"Enter vector b (numbers separated by space):\")\n",
    "b = np.array(list(map(float, input().split())))\n",
    "\n",
    "solution = gaussian_elimination(A, b)\n",
    "print(\"Solution of the system: \", solution)\n"
   ]
  },
  {
   "cell_type": "code",
   "execution_count": 5,
   "id": "b1d3f41a",
   "metadata": {},
   "outputs": [],
   "source": [
    "# Example system:\n",
    "# x + 2y + z = 2\n",
    "# 2x + 6y + z = 7\n",
    "# x + y + 4z = 3\n",
    "A = np.array([[1, 2, 1],\n",
    "              [2, 6, 1],\n",
    "              [1, 1, 4]])\n",
    "b = np.array([2, 7, 3])\n",
    "\n",
    "solution = gaussian_elimination(A, b)"
   ]
  },
  {
   "cell_type": "markdown",
   "id": "54a552f4",
   "metadata": {},
   "source": [
    "Conclusion\n",
    "- Gaussian elimination transforms a system into upper-triangular form.\n",
    "- Back substitution gives the solution efficiently.\n",
    "- This method is a building block for **LU factorization**, **determinants**, \n",
    "  and other applied linear algebra techniques.\n",
    "\n",
    "You can now try solving **your own systems** by changing `A` and `b` in the code above.\n"
   ]
  },
  {
   "cell_type": "code",
   "execution_count": null,
   "id": "aac969f4",
   "metadata": {},
   "outputs": [],
   "source": []
  }
 ],
 "metadata": {
  "kernelspec": {
   "display_name": "Python 3 (ipykernel)",
   "language": "python",
   "name": "python3"
  },
  "language_info": {
   "codemirror_mode": {
    "name": "ipython",
    "version": 3
   },
   "file_extension": ".py",
   "mimetype": "text/x-python",
   "name": "python",
   "nbconvert_exporter": "python",
   "pygments_lexer": "ipython3",
   "version": "3.9.12"
  }
 },
 "nbformat": 4,
 "nbformat_minor": 5
}
