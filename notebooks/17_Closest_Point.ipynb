{
 "cells": [
  {
   "attachments": {
    "closest%20%281%29.png": {
     "image/png": "[encoded data removed]"
    }
   },
   "cell_type": "markdown",
   "id": "deced81f",
   "metadata": {},
   "source": [
    "**Introduction:**\n",
    "\n",
    "Problem Statement: Given a point $b \\in \\mathbb{R}^m$ and a subspace $V \\subset \\mathbb{R}^m$, find the point $v^* \\in W$ that minimizes the Euclidean distance $\\|v - b\\|$.\n",
    "![closest%20%281%29.png](attachment:closest%20%281%29.png)\n",
    "Key Concepts:\n",
    "\n",
    "- Inner product and associated norm\n",
    "- Gram matrix and its properties\n",
    "- Normal equations\n",
    "- Orthogonal projections"
   ]
  },
  {
   "cell_type": "markdown",
   "id": "1050e7a5",
   "metadata": {},
   "source": [
    "**Gram Matrix**\n",
    "\n",
    "Definition: The Gram matrix is a symmetric, positive semi-definite matrix representing the inner products of a set of vectors. Given vectors $w_1, w_2, \\dots, w_n$, the Gram matrix $K$ is:\n",
    "\n",
    "$K_{ij} = \\langle w_i, w_j \\rangle$\n",
    "    \n",
    "Properties:\n",
    "\n",
    "- Symmetric: $K_{ij} = K_{ji}$.\n",
    "- Positive Semi-Definite: For any vector $x$, we have $x^T K x \\geq 0$.\n",
    "- Full Rank if Linearly Independent: If $w_1, \\dots, w_n$ are linearly independent, $K$ is positive definite.\n",
    "\n",
    "Application: In the closest point problem, the Gram matrix helps solve:\n",
    "    $ Kx = f, \\quad \\text{where} \\quad f_i = \\langle w_i, b \\rangle. $"
   ]
  },
  {
   "cell_type": "markdown",
   "id": "58af8b0f",
   "metadata": {},
   "source": [
    "**Theorem - Unique Closest Point**\n",
    "\n",
    "Statement: Let $w_1, \\dots, w_n$ form a basis for the subspace $W \\subset \\mathbb{R}^m$. Given $b \\in \\mathbb{R}^m$, the closest point $w^* \\in W$ is unique and given by:\n",
    "\n",
    " $x^* = K^{-1} f$\n",
    "where $K$ is the Gram matrix with entries $k_{ij} = \\langle w_i, w_j \\rangle$ and $f_i = \\langle w_i, b \\rangle$."
   ]
  },
  {
   "cell_type": "markdown",
   "id": "20c15bdb",
   "metadata": {},
   "source": [
    "**Trivial Case: $b \\in W$**\n",
    "\n",
    "\n",
    "- If $b$ already belongs to the subspace $W$, the closest point is simply:\n",
    "\n",
    "    $w^* = b$.\n",
    "    \n",
    "- In this case, the distance is:\n",
    "\n",
    "    $||w^* - b|| = 0$. \n",
    "    \n",
    "- The problem is only interesting when $b \\notin W$."
   ]
  },
  {
   "cell_type": "markdown",
   "id": "5d505aec",
   "metadata": {},
   "source": [
    "**Minimize the squared distance**\n",
    "\n",
    "Objective: Minimize the squared distance\n",
    "$$\n",
    "\\left\\lVert w - b \\right\\rVert ^2 = \\langle w - b, w - b \\rangle = \\left\\lVert w \\right\\rVert ^2 - 2\\langle w, b \\rangle + \\left\\lVert b \\right\\rVert ^2.\n",
    "$$\n",
    "\n",
    "   \n",
    "Assumption: The subspace $W$ has a basis $w_1, \\dots, w_n$ with $n = \\dim W$. The most general vector in $W$ is:\n",
    "$$    \n",
    "      w = x_1 w_1 + \\dots + x_n w_n.\n",
    "$$"
   ]
  },
  {
   "cell_type": "markdown",
   "id": "44f729bb",
   "metadata": {},
   "source": [
    "**Final Quadratic Formulation**\n",
    "\n",
    "The squared distance function reduces to a quadratic function:\n",
    "$$\n",
    "          p(x) = x^T K x - 2 x^T f + c,\n",
    "$$\n",
    "where:\n",
    "\n",
    "- $K$ is the Gram matrix with $k_{ij} = \\langle w_i, w_j \\rangle$.\n",
    "- $f$ is the vector with $f_i = \\langle w_i, b \\rangle$.\n",
    "- $c = \\|b\\|^2$.\n",
    "    "
   ]
  },
  {
   "cell_type": "markdown",
   "id": "2883c583",
   "metadata": {},
   "source": [
    "**Theorem:** If $K$ is positive definite, then $p(x)$ has a unique minimizer:\n",
    "\n",
    "\\begin{equation*}\n",
    "    x^* = K^{-1} f\n",
    "\\end{equation*}\n",
    "Minimum value:\n",
    "\\begin{equation*}\n",
    "    p(x^*) = c - f^T K^{-1} f\n",
    "  \\end{equation*}\n"
   ]
  },
  {
   "cell_type": "markdown",
   "id": "6204d864",
   "metadata": {},
   "source": [
    "**Theorem - Closest Point as Projection**\n",
    "\n",
    "Statement: The closest point $w^*$ to $b$ in $W$ coincides with the orthogonal projection of $b$ onto $W$.\n",
    "    \n",
    "Formula:\n",
    "$$\n",
    "w^* = \\sum_{i=1}^{n} \\langle b, u_i \\rangle u_i\n",
    "$$\n",
    "where $\\{u_i\\}$ is an orthonormal basis of $W$.\n"
   ]
  },
  {
   "cell_type": "code",
   "execution_count": 3,
   "id": "a83c86a3",
   "metadata": {},
   "outputs": [
    {
     "name": "stdout",
     "output_type": "stream",
     "text": [
      "Enter vector w1 : 1 2 -1\n",
      "Enter vector w2 : 2 -3 -1\n",
      "Enter vector b : 1 0 0\n",
      "\n",
      "Gram Matrix (K):\n",
      " [[ 6. -3.]\n",
      " [-3. 14.]]\n",
      "\n",
      "Vector f:\n",
      " [1. 2.]\n",
      "\n",
      "Solution x*:\n",
      " [0.26666667 0.2       ]\n",
      "\n",
      "Closest Point w*:\n",
      " [ 0.66666667 -0.06666667 -0.46666667]\n",
      "\n",
      "Minimum Distance ||w* - b|| =  0.5773502691896257\n"
     ]
    }
   ],
   "source": [
    "import numpy as np\n",
    "\n",
    "# --- Step 1: Get vectors from user ---\n",
    "# Each vector should be entered as space-separated numbers (e.g., \"1 2 -1\")\n",
    "\n",
    "w1 = np.array(list(map(float, input(\"Enter vector w1 : \").split())))\n",
    "w2 = np.array(list(map(float, input(\"Enter vector w2 : \").split())))\n",
    "b = np.array(list(map(float, input(\"Enter vector b : \").split())))\n",
    "\n",
    "# --- Step 2: Compute the Gram matrix K ---\n",
    "# K_ij = <w_i, w_j> = dot product between w_i and w_j\n",
    "K = np.array([\n",
    "    [np.dot(w1, w1), np.dot(w1, w2)],\n",
    "    [np.dot(w2, w1), np.dot(w2, w2)]\n",
    "])\n",
    "\n",
    "# --- Step 3: Compute the vector f ---\n",
    "# f_i = <w_i, b>\n",
    "f = np.array([np.dot(w1, b), np.dot(w2, b)])\n",
    "\n",
    "# --- Step 4: Solve for x* ---\n",
    "# Solve the linear system Kx = f\n",
    "x_star = np.linalg.solve(K, f)\n",
    "\n",
    "# --- Step 5: Compute the closest point w* ---\n",
    "# w* = x1*w1 + x2*w2 = W @ x*\n",
    "W = np.column_stack((w1, w2))  # make matrix with w1 and w2 as columns\n",
    "w_star = W @ x_star\n",
    "\n",
    "# --- Step 6: Compute the distance ---\n",
    "# Distance between b and its projection w*\n",
    "distance = np.linalg.norm(w_star - b)\n",
    "\n",
    "# --- Step 7: Show results ---\n",
    "print(\"\\nGram Matrix (K):\\n\", K)\n",
    "print(\"\\nVector f:\\n\", f)\n",
    "print(\"\\nSolution x*:\\n\", x_star)\n",
    "print(\"\\nClosest Point w*:\\n\", w_star)\n",
    "print(\"\\nMinimum Distance ||w* - b|| = \", distance)\n"
   ]
  },
  {
   "cell_type": "markdown",
   "id": "62f01fbe",
   "metadata": {},
   "source": [
    "**Conclusion:**\n",
    "\n",
    "- Closest point problems arise in many applications including least squares approximation.\n",
    "- The problem reduces to solving a system of linear equations.\n",
    "- If an orthonormal basis is available, the closest point can be found using projections.\n"
   ]
  }
 ],
 "metadata": {
  "kernelspec": {
   "display_name": "Python 3 (ipykernel)",
   "language": "python",
   "name": "python3"
  },
  "language_info": {
   "codemirror_mode": {
    "name": "ipython",
    "version": 3
   },
   "file_extension": ".py",
   "mimetype": "text/x-python",
   "name": "python",
   "nbconvert_exporter": "python",
   "pygments_lexer": "ipython3",
   "version": "3.9.12"
  }
 },
 "nbformat": 4,
 "nbformat_minor": 5
}
