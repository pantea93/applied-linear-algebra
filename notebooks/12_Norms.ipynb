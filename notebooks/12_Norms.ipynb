{
 "cells": [
  {
   "cell_type": "markdown",
   "id": "6004ffe0",
   "metadata": {},
   "source": [
    "**Norms**\n",
    "\n",
    "Key Concepts:\n",
    "- Norms and their relation to inner products\n",
    "- Different types of norms: Euclidean, $\\ell_1$, $\\ell_\\infty$, and general $\\ell_p$ norms\n",
    "- Application of norms to function spaces (e.g., $L^p$ norms)\n",
    "- Definition and properties of matrix norms\n",
    "- Natural matrix norm\n",
    "- Multiplicative inequality for matrix norms\n",
    "- Special cases: $\\|A\\|_1$, $\\|A\\|_\\infty$, and $\\|A\\|_2$"
   ]
  },
  {
   "cell_type": "markdown",
   "id": "17e06df6",
   "metadata": {},
   "source": [
    "Definition:\n",
    "\n",
    "A norm is a function $\\|v\\|$ satisfying:\n",
    "\n",
    "- Positivity: $\\|v\\| \\geq 0$, with equality if and only if $v = 0$\n",
    "- Homogeneity: $\\|c v\\| = |c| \\|v\\|$\n",
    "- Triangle inequality: $\\|v + w\\| \\leq \\|v\\| + \\|w\\|$\n",
    "\n",
    "Example:Euclidean norm in $\\mathbb{R}^n$:\n",
    "\n",
    "   \\begin{equation*}\n",
    "        \\|v\\|_2 = \\sqrt{\\sum_{i=1}^{n} v_i^2}\n",
    "    \\end{equation*}"
   ]
  },
  {
   "cell_type": "markdown",
   "id": "00ad032b",
   "metadata": {},
   "source": [
    "**p-norms:**\n",
    "\n",
    "   \\begin{equation*}\n",
    "        \\|v\\|_p = \\left( \\sum_{i=1}^{n} |v_i|^p \\right)^{1/p}, \\quad 1 \\leq p < \\infty\n",
    "    \\end{equation*}\n",
    "Special Cases:\n",
    "\n",
    "- $\\|v\\|_1 = \\sum |v_i|$ (Manhattan norm)\n",
    "- $\\|v\\|_\\infty = \\max |v_i|$ (Maximum norm)\n",
    "\n",
    "Application: Function norms:\n",
    "\n",
    "   \\begin{equation*}\n",
    "        \\|f\\|_p = \\left( \\int_a^b |f(x)|^p dx \\right)^{1/p}\n",
    "    \\end{equation*}"
   ]
  },
  {
   "cell_type": "markdown",
   "id": "bca075bf",
   "metadata": {},
   "source": [
    "**Triangle Inequality:**\n",
    "\n",
    "For all $v, w \\in V$:\n",
    "    \\begin{equation*}\n",
    "        \\|v+w\\| \\leq \\|v\\| + \\|w\\|\n",
    "    \\end{equation*}\n",
    "    \n",
    "**Minkowski’s Inequality:**\n",
    "\n",
    "For $p \\geq 1$:\n",
    "    \\begin{equation*}\n",
    "        \\left( \\sum |v_i + w_i|^p \\right)^{1/p} \\leq \\left( \\sum |v_i|^p \\right)^{1/p} + \\left( \\sum |w_i|^p \\right)^{1/p}\n",
    "    \\end{equation*}"
   ]
  },
  {
   "attachments": {
    "distance.png": {
     "image/png": "[encoded data removed]"
    }
   },
   "cell_type": "markdown",
   "id": "b030b341",
   "metadata": {},
   "source": [
    "**Distance in Normed Spaces**\n",
    "\n",
    "Distance function:\n",
    "    \\begin{equation*}\n",
    "        d(v, w) = \\|v - w\\|\n",
    "    \\end{equation*}\n",
    "    \n",
    "Properties:\n",
    "\n",
    "- Symmetry: $d(v, w) = d(w, v)$\n",
    "- Positivity: $d(v, w) = 0 \\iff v = w$\n",
    "- Triangle inequality: $d(v, w) \\leq d(v, z) + d(z, w)$\n",
    "\n",
    "![distance.png](attachment:distance.png)"
   ]
  },
  {
   "cell_type": "code",
   "execution_count": 15,
   "id": "4e7665af",
   "metadata": {},
   "outputs": [
    {
     "name": "stdout",
     "output_type": "stream",
     "text": [
      "Enter function f(x): 1\n",
      "Enter function g(x): x\n",
      "Enter lower bound a: -1\n",
      "Enter upper bound b: 1\n",
      "\n",
      "Inner Product:\n",
      "<f,g> = 0\n",
      "\n",
      "Norms:\n",
      "||f|| = sqrt(2) ≈ 1.4142135623730951\n",
      "||g|| = sqrt(6)/3≈ 0.816496580927726\n",
      "\n",
      "Cauchy–Schwarz Check:\n",
      "|<f,g>| = 0 <= ||f|| * ||g|| = 2*sqrt(3)/3 ≈ 2.230710143300821\n",
      "\n",
      "Triangle Inequality Check:\n",
      "||f+g|| = 2*sqrt(6)/3 <= ||f|| + ||g|| = sqrt(6)/3 + sqrt(2) ≈ 2.230710143300821\n"
     ]
    }
   ],
   "source": [
    "import sympy as sp\n",
    "\n",
    "# --------------------------\n",
    "# User input\n",
    "# --------------------------\n",
    "x = sp.symbols('x')\n",
    "\n",
    "# Get functions from user\n",
    "f_expr = sp.sympify(input(\"Enter function f(x): \"))   # e.g. 1\n",
    "g_expr = sp.sympify(input(\"Enter function g(x): \"))   # e.g. x\n",
    "\n",
    "# Get interval [a,b] from user (keep symbolic, not float!)\n",
    "a = sp.sympify(input(\"Enter lower bound a: \"))   # e.g. -1\n",
    "b = sp.sympify(input(\"Enter upper bound b: \"))   # e.g. 1\n",
    "# if you prefer to \n",
    "\n",
    "# --------------------------\n",
    "# Inner product in L2\n",
    "# --------------------------\n",
    "inner = sp.integrate(f_expr * g_expr, (x, a, b))\n",
    "\n",
    "# L2 norm\n",
    "norm_f = sp.sqrt(sp.integrate(f_expr**2, (x, a, b)))\n",
    "norm_g = sp.sqrt(sp.integrate(g_expr**2, (x, a, b)))\n",
    "\n",
    "# --------------------------\n",
    "# Cauchy–Schwarz inequality\n",
    "# --------------------------\n",
    "lhs_cs = abs(inner)\n",
    "rhs_cs = norm_f * norm_g\n",
    "\n",
    "# --------------------------\n",
    "# Triangle inequality\n",
    "# --------------------------\n",
    "h_expr = f_expr + g_expr\n",
    "norm_sum = sp.sqrt(sp.integrate(h_expr**2, (x, a, b)))\n",
    "lhs_tri = norm_sum\n",
    "rhs_tri = norm_f + norm_g\n",
    "\n",
    "# --------------------------\n",
    "# Results\n",
    "# --------------------------\n",
    "print(\"\\nInner Product:\")\n",
    "print(f\"<f,g> = {inner}\")\n",
    "\n",
    "print(\"\\nNorms:\")\n",
    "print(f\"||f|| = {norm_f} ≈ {float(norm_f)}\")\n",
    "\n",
    "print(f\"||g|| = {norm_g}≈ {float(norm_g)}\")\n",
    "\n",
    "print(\"\\nCauchy–Schwarz Check:\")\n",
    "print(f\"|<f,g>| = {lhs_cs} <= ||f|| * ||g|| = {rhs_cs} ≈ {float(rhs_tri)}\")\n",
    "\n",
    "print(\"\\nTriangle Inequality Check:\")\n",
    "print(f\"||f+g|| = {lhs_tri} <= ||f|| + ||g|| = {rhs_tri} ≈ {float(rhs_tri)}\")\n"
   ]
  },
  {
   "cell_type": "markdown",
   "id": "b8fbc4c7",
   "metadata": {},
   "source": [
    "**Matrix Norm Definition**\n",
    "\n",
    "Definition:\n",
    "\n",
    "Given a norm $\\| \\cdot \\|$ on $\\mathbb{R}^n$, the corresponding matrix norm is defined as:\n",
    "    \\begin{equation*}\n",
    "        \\|A\\| = \\max \\{ \\|Au\\| \\mid \\|u\\| = 1 \\}.\n",
    "    \\end{equation*}\n",
    "    \n",
    "Properties:\n",
    "\n",
    "- Non-negativity: $\\|A\\| \\geq 0$, and $\\|A\\| = 0$ if and only if $A = 0$.\n",
    "- Homogeneity: $\\|cA\\| = |c| \\|A\\|$ for any scalar $c$.\n",
    "- Triangle inequality: $\\|A + B\\| \\leq \\|A\\| + \\|B\\|$."
   ]
  },
  {
   "cell_type": "markdown",
   "id": "a823a564",
   "metadata": {},
   "source": [
    "**Theorem:** For any matrices $A, B \\in \\mathbb{R}^{n \\times n}$,\n",
    "    \\begin{equation*}\n",
    "        \\|AB\\| \\leq \\|A\\| \\|B\\|.\n",
    "    \\end{equation*}"
   ]
  },
  {
   "cell_type": "markdown",
   "id": "5034b0c2",
   "metadata": {},
   "source": [
    "**Special Matrix Norms**\n",
    "Examples:\n",
    "\n",
    "- $\\|A\\|_\\infty$: Maximum absolute row sum:\n",
    "\n",
    " \\begin{equation*}\n",
    "            \\|A\\|_\\infty = \\max_{1 \\leq i \\leq n} \\sum_{j=1}^{n} |a_{ij}|.\n",
    "        \\end{equation*}\n",
    "- $\\|A\\|_1$: Maximum absolute column sum:\n",
    "\n",
    " \\begin{equation*}\n",
    "            \\|A\\|_1 = \\max_{1 \\leq j \\leq n} \\sum_{i=1}^{n} |a_{ij}|.\n",
    "        \\end{equation*}"
   ]
  },
  {
   "cell_type": "code",
   "execution_count": 18,
   "id": "3fdb2d4f",
   "metadata": {},
   "outputs": [
    {
     "name": "stdout",
     "output_type": "stream",
     "text": [
      "Enter matrix size n (for n x n): 3\n",
      "Row 1 (space separated): 2 -1 3\n",
      "Row 2 (space separated): 0 4 -2\n",
      "Row 3 (space separated): -3 1 5\n",
      "\n",
      "Matrix A:\n",
      "⎡2   -1  3 ⎤\n",
      "⎢          ⎥\n",
      "⎢0   4   -2⎥\n",
      "⎢          ⎥\n",
      "⎣-3  1   5 ⎦\n",
      "\n",
      "Matrix Norms:\n",
      "||A||_1   = 10\n",
      "||A||_∞   = 9\n"
     ]
    }
   ],
   "source": [
    "import sympy as sp\n",
    "\n",
    "# --------------------------\n",
    "# Get matrix from user\n",
    "# --------------------------\n",
    "n = int(input(\"Enter matrix size n (for n x n): \"))\n",
    "A_entries = []\n",
    "for i in range(n):\n",
    "    row = input(f\"Row {i+1} (space separated): \").split()\n",
    "    A_entries.append([sp.sympify(val) for val in row])\n",
    "\n",
    "A = sp.Matrix(A_entries)\n",
    "\n",
    "# --------------------------\n",
    "# Matrix norms\n",
    "# --------------------------\n",
    "\n",
    "# 1-norm: max column sum\n",
    "norm1 = max([sum(abs(A[i, j]) for i in range(n)) for j in range(n)])\n",
    "\n",
    "# ∞-norm: max row sum\n",
    "norm_inf = max([sum(abs(A[i, j]) for j in range(n)) for i in range(n)])\n",
    "\n",
    "\n",
    "# --------------------------\n",
    "# Results\n",
    "# --------------------------\n",
    "print(\"\\nMatrix A:\")\n",
    "sp.pprint(A)\n",
    "\n",
    "print(\"\\nMatrix Norms:\")\n",
    "print(f\"||A||_1   = {norm1}\")\n",
    "print(f\"||A||_∞   = {norm_inf}\")\n"
   ]
  }
 ],
 "metadata": {
  "kernelspec": {
   "display_name": "Python 3 (ipykernel)",
   "language": "python",
   "name": "python3"
  },
  "language_info": {
   "codemirror_mode": {
    "name": "ipython",
    "version": 3
   },
   "file_extension": ".py",
   "mimetype": "text/x-python",
   "name": "python",
   "nbconvert_exporter": "python",
   "pygments_lexer": "ipython3",
   "version": "3.9.12"
  }
 },
 "nbformat": 4,
 "nbformat_minor": 5
}
