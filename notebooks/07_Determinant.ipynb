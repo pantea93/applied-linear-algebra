{
 "cells": [
  {
   "cell_type": "markdown",
   "id": "ab9ba99e",
   "metadata": {},
   "source": [
    "**Determinant**\n",
    "\n",
    "   **Definition:**\n",
    "\n",
    "The determinant of a square matrix $A$ is a scalar, denoted as $\\det(A)$, and it determines whether the matrix is singular or nonsingular.\n",
    "- If $\\det(A) \\neq 0$, then $A$ is invertible (nonsingular).\n",
    "- If $\\det(A) = 0$, then $A$ is singular (not invertible).\n",
    "\n",
    "Determinant of a $2 \\times 2$ Matrix:\n",
    "\n",
    "   $$A = \\begin{bmatrix} a & b \\\\ c & d \\end{bmatrix}, \\quad  det(A) = ad - bc.$$\n",
    "  "
   ]
  },
  {
   "cell_type": "markdown",
   "id": "0385db1a",
   "metadata": {},
   "source": [
    "**Properties of Determinants:**\n",
    "\n",
    "The determinant satisfies the following axioms:\n",
    "1. Adding a multiple of one row to another does not change the determinant.\n",
    "2. Interchanging two rows changes the sign of the determinant.\n",
    "3. Multiplying a row by a scalar multiplies the determinant by the same scalar.\n",
    "4. The determinant of an upper triangular matrix is the product of its diagonal entries."
   ]
  },
  {
   "cell_type": "markdown",
   "id": "52fa13cb",
   "metadata": {},
   "source": [
    "**Determinant Calculation Using Row Operations**\n",
    "\n",
    "- Use Gaussian Elimination to transform A into an upper triangular form.\n",
    "- Compute the determinant as the product of the pivots.\n",
    "- If row interchanges are performed, adjust sign accordingly."
   ]
  },
  {
   "cell_type": "markdown",
   "id": "58331386",
   "metadata": {},
   "source": [
    "**Key Theorems**\n",
    "\n",
    "\n",
    "  **Theorem: Determinant of a Product**\n",
    "\n",
    "   $$\\det(AB) = \\det(A) \\cdot \\det(B).$$\n",
    "   \n",
    "  **Theorem: Determinant of an Inverse**\n",
    "    $$\\det(A^{-1}) = \\frac{1}{\\det(A)} \\quad \\text{if } A \\text{ is invertible}.$$\n"
   ]
  },
  {
   "cell_type": "code",
   "execution_count": 2,
   "id": "e47924aa",
   "metadata": {},
   "outputs": [
    {
     "name": "stdout",
     "output_type": "stream",
     "text": [
      "Enter matrix size (n for n×n): 4\n",
      "Enter the matrix row by row, with spaces between numbers:\n",
      "Row 1: 1 0 -1 2\n",
      "Row 2: 2 1 -3 4\n",
      "Row 3: 0 2 -2 3\n",
      "Row 4: 1 1 -4 -2\n",
      "Matrix A:\n",
      "[[ 1.  0. -1.  2.]\n",
      " [ 2.  1. -3.  4.]\n",
      " [ 0.  2. -2.  3.]\n",
      " [ 1.  1. -4. -2.]]\n",
      "Upper triangular matrix U:\n",
      "[[ 1.  0. -1.  2.]\n",
      " [ 0.  1. -1.  0.]\n",
      " [ 0.  0. -2. -4.]\n",
      " [ 0.  0.  0.  3.]]\n",
      "Determinant of A = 6.0\n"
     ]
    }
   ],
   "source": [
    "import numpy as np\n",
    "\n",
    "def determinant_by_row_operations(A):\n",
    "    \"\"\"\n",
    "    Compute the determinant of a square matrix A using Gaussian elimination\n",
    "    (row operations) without np.linalg.det, and print the upper triangular matrix U.\n",
    "    \"\"\"\n",
    "    A = A.astype(float)   # Make sure entries are floats to avoid integer division\n",
    "    n = A.shape[0]\n",
    "    swap_count = 0        # Count how many row swaps occur\n",
    "\n",
    "    for i in range(n):\n",
    "        # --- Pivot selection ---\n",
    "        # If the pivot element is zero, try to swap with a row below to get a nonzero pivot\n",
    "        if A[i, i] == 0:\n",
    "            for j in range(i + 1, n):\n",
    "                if A[j, i] != 0:\n",
    "                    A[[i, j]] = A[[j, i]]  # Swap rows i and j\n",
    "                    swap_count += 1\n",
    "                    break\n",
    "\n",
    "        # If pivot is still zero, determinant is zero\n",
    "        if A[i, i] == 0:\n",
    "            print(\"Matrix is singular; determinant = 0.\")\n",
    "            print(\"Upper triangular matrix U:\")\n",
    "            print(A)\n",
    "            return 0.0\n",
    "\n",
    "        # --- Elimination below the pivot ---\n",
    "        # Make all entries below the pivot zero\n",
    "        for j in range(i + 1, n):\n",
    "            factor = A[j, i] / A[i, i]\n",
    "            A[j, i:] -= factor * A[i, i:]\n",
    "\n",
    "    # At this point A has been transformed into the upper triangular matrix U\n",
    "    print(\"Upper triangular matrix U:\")\n",
    "    print(A)\n",
    "\n",
    "    # Multiply diagonal entries to get determinant\n",
    "    det = np.prod(np.diag(A))\n",
    "\n",
    "    # Adjust sign if an odd number of row swaps occurred\n",
    "    if swap_count % 2 != 0:\n",
    "        det = -det\n",
    "\n",
    "    return det\n",
    "\n",
    "# ---- Example usage ----\n",
    "n = int(input(\"Enter matrix size (n for n×n): \"))\n",
    "print(\"Enter the matrix row by row, with spaces between numbers:\")\n",
    "rows = []\n",
    "for i in range(n):\n",
    "    row = list(map(float, input(f\"Row {i+1}: \").split()))\n",
    "    rows.append(row)\n",
    "\n",
    "A = np.array(rows)\n",
    "print(\"Matrix A:\")\n",
    "print(A)\n",
    "\n",
    "detA = determinant_by_row_operations(A.copy())\n",
    "print(\"Determinant of A =\", detA)\n"
   ]
  },
  {
   "cell_type": "markdown",
   "id": "355a4cb8",
   "metadata": {},
   "source": [
    "**Conclusion**\n",
    "\n",
    "- Determinants provide a criterion for matrix invertibility.\n",
    "- Gaussian elimination is the most efficient way to compute determinants in practice.\n",
    "- Determinants satisfy key algebraic properties that simplify calculations."
   ]
  }
 ],
 "metadata": {
  "kernelspec": {
   "display_name": "Python 3 (ipykernel)",
   "language": "python",
   "name": "python3"
  },
  "language_info": {
   "codemirror_mode": {
    "name": "ipython",
    "version": 3
   },
   "file_extension": ".py",
   "mimetype": "text/x-python",
   "name": "python",
   "nbconvert_exporter": "python",
   "pygments_lexer": "ipython3",
   "version": "3.9.12"
  }
 },
 "nbformat": 4,
 "nbformat_minor": 5
}
