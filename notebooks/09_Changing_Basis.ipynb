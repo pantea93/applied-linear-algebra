{
 "cells": [
  {
   "cell_type": "markdown",
   "id": "aaa83d07",
   "metadata": {},
   "source": [
    "**Real-Life Application: Image Compression**\n",
    "\n",
    "- In image processing, changing the basis helps in compression techniques like JPEG.\n",
    "- Instead of representing images in pixel space, they are transformed using basis functions (e.g., Discrete Cosine Transform).\n",
    "- This allows for efficient storage by keeping only significant coefficients and discarding insignificant ones."
   ]
  },
  {
   "cell_type": "markdown",
   "id": "3e4e344a",
   "metadata": {},
   "source": [
    "**Changing Basis**\n",
    "- To express a vector in a new basis $\\{v_1, \\dots, v_n\\}$:\n",
    "\n",
    "    \\begin{equation*}\n",
    "            x = c_1 v_1 + \\dots + c_n v_n.\n",
    "        \\end{equation*}\n",
    "        \n",
    "        \n",
    "- Solve the system $Ac = x$ to find $c = A^{-1} x$.\n"
   ]
  },
  {
   "cell_type": "markdown",
   "id": "18e86f87",
   "metadata": {},
   "source": [
    "**Example:** \n",
    "\n",
    "Consider the vector $x = (3,1)$ in the standard basis. Let the new basis be:\n",
    "    \\begin{align*}\n",
    "        v_1 &= (1,1),\\\\\n",
    "        v_2 &= (1,-1).\n",
    "    \\end{align*}\n",
    "- Step 1: Form the transformation matrix:\n",
    "    \\begin{equation*}\n",
    "        A = \\begin{bmatrix} 1 & 1 \\\\ 1 & -1 \\end{bmatrix}.\n",
    "    \\end{equation*}\n",
    "- Step 2: Solve for coordinates $c$ in the new basis:\n",
    "    \\begin{equation*}\n",
    "        A c = x \\Rightarrow \\begin{bmatrix} 1 & 1 \\\\ 1 & -1 \\end{bmatrix} \\begin{bmatrix} c_1 \\\\ c_2 \\end{bmatrix} = \\begin{bmatrix} 3 \\\\ 1 \\end{bmatrix}.\n",
    "    \\end{equation*}\n",
    "- Step 3: Compute $c$ using matrix inversion:\n",
    "    \\begin{equation*}\n",
    "        c = A^{-1} x = \\frac{1}{2} \\begin{bmatrix} 1 & 1 \\\\ 1 & -1 \\end{bmatrix} \\begin{bmatrix} 3 \\\\ 1 \\end{bmatrix} = \\begin{bmatrix} 2 \\\\ 1 \\end{bmatrix}.\n",
    "    \\end{equation*}\n",
    "    Thus, the coordinates of $x$ in the new basis are $c_1 = 2$, $c_2 = 1$."
   ]
  },
  {
   "cell_type": "code",
   "execution_count": 1,
   "id": "7afcb485",
   "metadata": {},
   "outputs": [
    {
     "name": "stdout",
     "output_type": "stream",
     "text": [
      "Enter the components of vector x (space separated): 3 1 \n",
      "\n",
      "Enter the new basis matrix (each row in a new line, space separated):\n",
      "Row 1: 1 1\n",
      "Row 2: 1 -1\n",
      "\n",
      "Coordinates of x in the new basis: [2. 1.]\n"
     ]
    }
   ],
   "source": [
    "import numpy as np\n",
    "\n",
    "# Read the vector x from user\n",
    "x_input = input(\"Enter the components of vector x (space separated): \").split()\n",
    "x = np.array([float(val) for val in x_input])\n",
    "\n",
    "# Read the new basis matrix A\n",
    "print(\"\\nEnter the new basis matrix (each row in a new line, space separated):\")\n",
    "rows = []\n",
    "for i in range(len(x)):  # number of rows = dimension of vector x\n",
    "    row = input(f\"Row {i+1}: \").split()\n",
    "    rows.append([float(num) for num in row])\n",
    "A = np.array(rows)\n",
    "\n",
    "# Solve the system A * c = x  → coordinates of x in new basis\n",
    "c = np.linalg.solve(A, x)\n",
    "\n",
    "# Output\n",
    "print(\"\\nCoordinates of x in the new basis:\", c)\n"
   ]
  }
 ],
 "metadata": {
  "kernelspec": {
   "display_name": "Python 3 (ipykernel)",
   "language": "python",
   "name": "python3"
  },
  "language_info": {
   "codemirror_mode": {
    "name": "ipython",
    "version": 3
   },
   "file_extension": ".py",
   "mimetype": "text/x-python",
   "name": "python",
   "nbconvert_exporter": "python",
   "pygments_lexer": "ipython3",
   "version": "3.9.12"
  }
 },
 "nbformat": 4,
 "nbformat_minor": 5
}
